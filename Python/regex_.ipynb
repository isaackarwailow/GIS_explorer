{
 "metadata": {
  "language_info": {
   "codemirror_mode": {
    "name": "ipython",
    "version": 3
   },
   "file_extension": ".py",
   "mimetype": "text/x-python",
   "name": "python",
   "nbconvert_exporter": "python",
   "pygments_lexer": "ipython3",
   "version": "3.9.5"
  },
  "orig_nbformat": 4,
  "kernelspec": {
   "name": "python3",
   "display_name": "Python 3.9.5 64-bit (windows store)"
  },
  "interpreter": {
   "hash": "ceb3d125d64f2e334c23f37deca054b2b7c5572800559076664bde4927e123d0"
  }
 },
 "nbformat": 4,
 "nbformat_minor": 2,
 "cells": [
  {
   "cell_type": "code",
   "execution_count": 1,
   "metadata": {},
   "outputs": [],
   "source": [
    "data = 'From stephen.marquard@uct.ac.za Sat Jan 5 09:14:16 2008'"
   ]
  },
  {
   "cell_type": "code",
   "execution_count": 3,
   "metadata": {},
   "outputs": [
    {
     "output_type": "stream",
     "name": "stdout",
     "text": [
      "21\n"
     ]
    }
   ],
   "source": [
    "# command for finding the index position\n",
    "atpos = data.find('@')\n",
    "print(atpos)"
   ]
  },
  {
   "cell_type": "code",
   "execution_count": 4,
   "metadata": {},
   "outputs": [
    {
     "output_type": "stream",
     "name": "stdout",
     "text": [
      "31\n"
     ]
    }
   ],
   "source": [
    "# a second parameter finds a space after a starting index position\n",
    "sppos = data.find(' ', atpos)\n",
    "print(sppos)"
   ]
  },
  {
   "cell_type": "code",
   "execution_count": 5,
   "metadata": {},
   "outputs": [
    {
     "output_type": "stream",
     "name": "stdout",
     "text": [
      "uct.ac.za\n"
     ]
    }
   ],
   "source": [
    "# retreive the host\n",
    "host = data[atpos+1 : sppos]\n",
    "print(host)"
   ]
  },
  {
   "cell_type": "code",
   "execution_count": 13,
   "metadata": {},
   "outputs": [
    {
     "output_type": "stream",
     "name": "stdout",
     "text": [
      "['From', 'stephen.marquard@uct.ac.za', 'Sat', 'Jan', '5', '09:14:16', '2008']\n"
     ]
    }
   ],
   "source": [
    "# double split pattern\n",
    "words = data.split()\n",
    "print(words)"
   ]
  },
  {
   "cell_type": "code",
   "execution_count": 14,
   "metadata": {},
   "outputs": [
    {
     "output_type": "stream",
     "name": "stdout",
     "text": [
      "stephen.marquard@uct.ac.za\n"
     ]
    }
   ],
   "source": [
    "email = words[1]\n",
    "print(email)"
   ]
  },
  {
   "cell_type": "code",
   "execution_count": 15,
   "metadata": {},
   "outputs": [
    {
     "output_type": "stream",
     "name": "stdout",
     "text": [
      "uct.ac.za\n"
     ]
    }
   ],
   "source": [
    "# email is split - hence the double split\n",
    "pieces = email.split('@')\n",
    "print(pieces[1])"
   ]
  },
  {
   "cell_type": "code",
   "execution_count": 16,
   "metadata": {},
   "outputs": [
    {
     "output_type": "stream",
     "name": "stdout",
     "text": [
      "['uct.ac.za']\n"
     ]
    }
   ],
   "source": [
    "import re\n",
    "# [^ ] means find non-blank char, and match 0 or many of them, greedy matcher\n",
    "y = re.findall('@([^ ]*)', data)\n",
    "print(y)"
   ]
  },
  {
   "cell_type": "code",
   "execution_count": 18,
   "metadata": {},
   "outputs": [
    {
     "output_type": "stream",
     "name": "stdout",
     "text": [
      "['uct.ac.za']\n"
     ]
    }
   ],
   "source": [
    "# look for string from at beginning of the line\n",
    "# . means any character\n",
    "# [] means everything but\n",
    "# * means 0 or many instances, greedy matcher\n",
    "y = re.findall('^From .*@([^ ]*)', data)\n",
    "print(y)"
   ]
  },
  {
   "cell_type": "code",
   "execution_count": 21,
   "metadata": {},
   "outputs": [
    {
     "output_type": "stream",
     "name": "stdout",
     "text": [
      "Maximum:  0.9907\n"
     ]
    }
   ],
   "source": [
    "hand = open('DATA/mbox-short.txt')\n",
    "numlist = list()\n",
    "for line in hand:\n",
    "    line = line.rstrip()\n",
    "    stuff = re.findall('^X-DSPAM-Confidence: ([0-9.]+)', line)\n",
    "    if len(stuff) != 1: continue\n",
    "    num = float(stuff[0])\n",
    "    numlist.append(num)\n",
    "print('Maximum: ', max(numlist))"
   ]
  },
  {
   "source": [
    "### Meta-characters: . ^ $ * + ? { [ ] \\ | ( ) "
   ],
   "cell_type": "markdown",
   "metadata": {}
  },
  {
   "source": [
    "* . (a period) -- matches any single character except newline '\\n'\n",
    "* \\w -- (lowercase w) matches a \"word\" character: a letter or digit or underbar [a-zA-Z0-9_]. Note that although \"word\" is the mnemonic for this, it only matches a single word char, not a whole word. \\W (upper case W) matches any non-word character.\n",
    "* \\b -- boundary between word and non-word\n",
    "* \\s -- (lowercase s) matches a single whitespace character -- space, newline, return, tab, form [ \\n\\r\\t\\f]. \\S (upper case S) matches any non-whitespace character.\n",
    "* \\t, \\n, \\r -- tab, newline, return\n",
    "* \\d -- decimal digit [0-9] (some older regex utilities do not support but \\d, but they all support \\w and \\s)\n",
    "* ^ = start, $ = end -- match the start or end of the string\n",
    "* \\ -- inhibit the \"specialness\" of a character. So, for example, use \\. to match a period or \\\\ to match a slash. If you are unsure if a character has special meaning, such as '@', you can put a slash in front of it, \\@, to make sure it is treated just as a character.\n",
    "* \\+ -- 1 or more occurrences of the pattern to its left, e.g. 'i+' = one or more i's\n",
    "* \\* -- 0 or more occurrences of the pattern to its left\n",
    "* ? -- match 0 or 1 occurrences of the pattern to its left\n",
    "* \\+ and * are said to be greedy as it goes as far as it can\n",
    "* Square brackets can be used to indicate a set of chars, so [abc] matches 'a' or 'b' or 'c'. The codes \\w, \\s etc. work inside square brackets too with the one exception that dot (.) just means a literal dot.\n",
    "* (More square-bracket features) You can also use a dash to indicate a range, so [a-z] matches all lowercase letters. To use a dash without indicating a range, put the dash last, e.g. [abc-]. An up-hat (^) at the start of a square-bracket set inverts it, so [^ab] means any char except 'a' or 'b'.\n",
    "* The \"group\" feature of a regular expression allows you to pick out parts of the matching text. Suppose for the emails problem that we want to extract the username and host separately. To do this, add parenthesis ( ) around the username and host in the pattern, like this: r'([\\w.-]+)@([\\w.-]+)'. In this case, the parenthesis do not change what the pattern will match, instead they establish logical \"groups\" inside of the match text. On a successful search, match.group(1) is the match text corresponding to the 1st left parenthesis, and match.group(2) is the text corresponding to the 2nd left parenthesis. The plain match.group() is still the whole match text as usual."
   ],
   "cell_type": "markdown",
   "metadata": {}
  },
  {
   "cell_type": "code",
   "execution_count": 31,
   "metadata": {},
   "outputs": [
    {
     "output_type": "stream",
     "name": "stdout",
     "text": [
      "[['$49,383. 20 ', '$550. 20 ', '$550. 20 ', '$550. 20 ', '$1,200. 00 ', '$2,234. 00 ', '$3984. 20 ', '$12,426. 32 ', '$12,426. 32 ', '$356. 20 ', '$15,333. 00 ', '$888. 00 ', '$250. 00 ', '$29,253. 52 ', '$590. 10 ', '$590. 10 ', '$15,556. 00 ', '$16,146. 10 ', '$24,455 ', '$2,358 ', '$218 ', '$1,177 ', '$2,268 ', '$21,946 ', '$2,490 ', '$43,093 ', '$86,186, ', '$1,500 ', '$1,500 ', '$38,770 ', '$1460 6 ', '$40,230 ', '$15,979 ', '$2,049 ', '$350 ', '$ 64,380 ', '$25,677 ', '$90,057 ', '$364,146 ', '$2,077 ', '$3,001 ', '$2,695 4 ', '$358 ', '$291 ', '$2,838 ', '$1,395 ', '$218 ', '$1,177 ', '$1,755 ', '$4,338 ', '$4,536 ', '$2,298 ', '$1,123 ', '$86,185 ', '$1,500 ', '$237,502 2 ', '$4,098 ', '$52,589 ', '$700 ', '$123,163 ', '$51,354 ', '$5,598 ', '$180,115 ', '$2,472 ', '$364,146 ', '$20,466. 96 ', '$2,472. 00. ', '$12,946. 52 ', '$520. 20 ', '$520. 20 ', '$520. 20 ', '$520. 20 ', '$12,426. 32 ', '$12,426. 32 ', '$12,426. 32 ', '$49,383. 20 ', '$550. 20 ', '$550. 20 ', '$550. 20 ', '$1,200. 00 ', '$2,234. 00 ', '$3984. 20 ', '$12,426. 32 ', '$12,426. 32 ', '$356. 20 ', '$15,333. 00 ', '$888. 00 ', '$250. 00 ', '$29,253. 52 ', '$590. 10 ', '$590. 10 ', '$15,556. 00 ', '$16,146. 10 ', '$17. 50 ', '$0. 00 ', '$40. 00 ', '$0. 00 ', '$145. 00 ', '$185. 00 ', '$185. 00', '$49,383. 20 ', '$550. 20 ', '$550. 20 ', '$550. 20 ', '$1,200. 00 ', '$2,234. 00 ', '$3984. 20 ', '$12,426. 32 ', '$12,426. 32 ', '$356. 20 ', '$15,333. 00 ', '$888. 00 ', '$250. 00 ', '$29,253. 52 ', '$590. 10 ', '$590. 10 ', '$15,556. 00 ', '$16,146. 10 ']]\n"
     ]
    }
   ],
   "source": [
    "# matching a dollar digit\n",
    "hand = open('DATA/data.txt')\n",
    "monies = list()\n",
    "for line in hand:\n",
    "    x = re.findall('\\$[0-9.,\\s]+', line)\n",
    "    monies.append(x)\n",
    "print(monies)"
   ]
  },
  {
   "cell_type": "code",
   "execution_count": null,
   "metadata": {},
   "outputs": [],
   "source": []
  }
 ]
}